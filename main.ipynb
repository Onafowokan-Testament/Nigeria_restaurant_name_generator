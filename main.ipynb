{
 "cells": [
  {
   "cell_type": "code",
   "execution_count": 153,
   "metadata": {},
   "outputs": [],
   "source": [
    "import os\n",
    "from langchain_groq import ChatGroq\n",
    "from langchain.prompts import PromptTemplate\n",
    "from langchain.chains import LLMChain \n",
    "from langchain.chains import SequentialChain\n",
    "from dotenv import load_dotenv\n",
    "load_dotenv()\n",
    "os.environ['_API_KEY'] = os.getenv('GROQ_API_KEY')\n"
   ]
  },
  {
   "cell_type": "code",
   "execution_count": 154,
   "metadata": {},
   "outputs": [],
   "source": [
    "model = ChatGroq(model='llama3-8b-8192')"
   ]
  },
  {
   "cell_type": "code",
   "execution_count": 155,
   "metadata": {},
   "outputs": [],
   "source": [
    "tribe_template = PromptTemplate(\n",
    "    input_varaibles = ['tribe'],\n",
    "    template ='I want to open a restaurant for {tribe} food in Nigeria .Suggest a fancy name for me. Just give me the name. No preamble'\n",
    ")\n",
    "\n",
    "name_chain = LLMChain(llm=model, prompt=tribe_template, output_key='restaurant_name')\n"
   ]
  },
  {
   "cell_type": "code",
   "execution_count": 156,
   "metadata": {},
   "outputs": [],
   "source": [
    "food_template = PromptTemplate(\n",
    "    input_variables=['restaurant_name'],\n",
    "    template='Suggest some menu items for {restaurant_name}.Just Return as a comma seperated list, no preamble'\n",
    ")\n",
    "\n",
    "food_item_chain = LLMChain(llm=model, prompt=food_template, output_key='food_item')"
   ]
  },
  {
   "cell_type": "code",
   "execution_count": 157,
   "metadata": {},
   "outputs": [],
   "source": [
    "total_chain = SequentialChain(\n",
    "    chains=[name_chain, food_item_chain],\n",
    "    input_variables =['tribe'],\n",
    "    output_variables =['restaurant_name', 'food_item']\n",
    "\n",
    ")"
   ]
  },
  {
   "cell_type": "code",
   "execution_count": 158,
   "metadata": {},
   "outputs": [],
   "source": [
    "result = total_chain.invoke({'tribe':'yoruba'})"
   ]
  },
  {
   "cell_type": "code",
   "execution_count": 159,
   "metadata": {},
   "outputs": [
    {
     "data": {
      "text/plain": [
       "{'tribe': 'yoruba',\n",
       " 'restaurant_name': '\"Oriki\\'s Table\"',\n",
       " 'food_item': 'Miso Glazed Pork Chops, Spicy Tofu Ramen, Pan-Seared Sushi Burrito, Korean Fried Chicken Wings, Wok-Fried Noodles with Shrimp and Vegetables, Grilled Salmon with Yuzu Sauce, Vegan \"Cheese\" Quesadilla, Currywurst Sausage with Crispy Onions, Bao Buns with Roasted Pork Belly, Jasmine Green Tea Smoked Ribs'}"
      ]
     },
     "execution_count": 159,
     "metadata": {},
     "output_type": "execute_result"
    }
   ],
   "source": [
    "result"
   ]
  },
  {
   "cell_type": "code",
   "execution_count": 160,
   "metadata": {},
   "outputs": [
    {
     "data": {
      "text/plain": [
       "'yoruba'"
      ]
     },
     "execution_count": 160,
     "metadata": {},
     "output_type": "execute_result"
    }
   ],
   "source": [
    "result['tribe']"
   ]
  },
  {
   "cell_type": "code",
   "execution_count": 161,
   "metadata": {},
   "outputs": [
    {
     "data": {
      "text/plain": [
       "'\"Oriki\\'s Table\"'"
      ]
     },
     "execution_count": 161,
     "metadata": {},
     "output_type": "execute_result"
    }
   ],
   "source": [
    "result['restaurant_name']"
   ]
  },
  {
   "cell_type": "code",
   "execution_count": 162,
   "metadata": {},
   "outputs": [
    {
     "data": {
      "text/plain": [
       "'Miso Glazed Pork Chops, Spicy Tofu Ramen, Pan-Seared Sushi Burrito, Korean Fried Chicken Wings, Wok-Fried Noodles with Shrimp and Vegetables, Grilled Salmon with Yuzu Sauce, Vegan \"Cheese\" Quesadilla, Currywurst Sausage with Crispy Onions, Bao Buns with Roasted Pork Belly, Jasmine Green Tea Smoked Ribs'"
      ]
     },
     "execution_count": 162,
     "metadata": {},
     "output_type": "execute_result"
    }
   ],
   "source": [
    "result['food_item']"
   ]
  },
  {
   "cell_type": "code",
   "execution_count": null,
   "metadata": {},
   "outputs": [
    {
     "data": {
      "text/plain": [
       "Traceback (most recent call last):\n",
       "  File \"c:\\Users\\USER\\Documents\\Electric_vehicle_project\\venv\\Lib\\site-packages\\langchain\\_api\\module_import.py\", line 69, in import_by_name\n",
       "    module = importlib.import_module(new_module)\n",
       "             ^^^^^^^^^^^^^^^^^^^^^^^^^^^^^^^^^^^\n",
       "  File \"C:\\Users\\USER\\AppData\\Local\\Programs\\Python\\Python311\\Lib\\importlib\\__init__.py\", line 126, in import_module\n",
       "    return _bootstrap._gcd_import(name[level:], package, level)\n",
       "           ^^^^^^^^^^^^^^^^^^^^^^^^^^^^^^^^^^^^^^^^^^^^^^^^^^^^\n",
       "  File \"<frozen importlib._bootstrap>\", line 1204, in _gcd_import\n",
       "  File \"<frozen importlib._bootstrap>\", line 1176, in _find_and_load\n",
       "  File \"<frozen importlib._bootstrap>\", line 1126, in _find_and_load_unlocked\n",
       "  File \"<frozen importlib._bootstrap>\", line 241, in _call_with_frames_removed\n",
       "  File \"<frozen importlib._bootstrap>\", line 1204, in _gcd_import\n",
       "  File \"<frozen importlib._bootstrap>\", line 1176, in _find_and_load\n",
       "  File \"<frozen importlib._bootstrap>\", line 1126, in _find_and_load_unlocked\n",
       "  File \"<frozen importlib._bootstrap>\", line 241, in _call_with_frames_removed\n",
       "  File \"<frozen importlib._bootstrap>\", line 1204, in _gcd_import\n",
       "  File \"<frozen importlib._bootstrap>\", line 1176, in _find_and_load\n",
       "  File \"<frozen importlib._bootstrap>\", line 1140, in _find_and_load_unlocked\n",
       "ModuleNotFoundError: No module named 'langchain_community'\n",
       "\n",
       "The above exception was the direct cause of the following exception:\n",
       "\n",
       "Traceback (most recent call last):\n",
       "  File \"c:\\Users\\USER\\.vscode\\extensions\\ms-python.python-2024.22.2-win32-x64\\python_files\\python_server.py\", line 133, in exec_user_input\n",
       "    retval = callable_(user_input, user_globals)\n",
       "             ^^^^^^^^^^^^^^^^^^^^^^^^^^^^^^^^^^^\n",
       "  File \"<string>\", line 1, in <module>\n",
       "  File \"c:\\Users\\USER\\Documents\\Electric_vehicle_project\\venv\\Lib\\site-packages\\langchain\\agents\\__init__.py\", line 135, in __getattr__\n",
       "    return _import_attribute(name)\n",
       "           ^^^^^^^^^^^^^^^^^^^^^^^\n",
       "  File \"c:\\Users\\USER\\Documents\\Electric_vehicle_project\\venv\\Lib\\site-packages\\langchain\\_api\\module_import.py\", line 72, in import_by_name\n",
       "    raise ModuleNotFoundError(\n",
       "ModuleNotFoundError: Module langchain_community.agent_toolkits.load_tools not found. Please install langchain-community to access this module. You can install it using `pip install -U langchain-community`\n",
       "\n"
      ]
     },
     "metadata": {},
     "output_type": "display_data"
    }
   ],
   "source": [
    "from langchain.agents import load_agent,AgentType, load_tools, initialize_agent\n",
    "\n",
    "load_tools(['wikepedia', 'llm-math'], llm=model)"
   ]
  },
  {
   "cell_type": "code",
   "execution_count": null,
   "metadata": {},
   "outputs": [],
   "source": []
  }
 ],
 "metadata": {
  "kernelspec": {
   "display_name": "venv",
   "language": "python",
   "name": "python3"
  },
  "language_info": {
   "codemirror_mode": {
    "name": "ipython",
    "version": 3
   },
   "file_extension": ".py",
   "mimetype": "text/x-python",
   "name": "python",
   "nbconvert_exporter": "python",
   "pygments_lexer": "ipython3",
   "version": "3.11.4"
  }
 },
 "nbformat": 4,
 "nbformat_minor": 2
}
