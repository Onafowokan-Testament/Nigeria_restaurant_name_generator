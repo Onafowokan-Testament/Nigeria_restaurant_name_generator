{
 "cells": [
  {
   "cell_type": "code",
   "execution_count": 141,
   "metadata": {},
   "outputs": [],
   "source": [
    "import os\n",
    "from langchain_groq import ChatGroq\n",
    "from langchain.prompts import PromptTemplate\n",
    "from langchain.chains import LLMChain \n",
    "from langchain.chains import SequentialChain\n",
    "from dotenv import load_dotenv\n",
    "load_dotenv()\n",
    "os.environ['_API_KEY'] = os.getenv('GROQ_API_KEY')\n"
   ]
  },
  {
   "cell_type": "code",
   "execution_count": 142,
   "metadata": {},
   "outputs": [],
   "source": [
    "model = ChatGroq(model='llama3-8b-8192')"
   ]
  },
  {
   "cell_type": "code",
   "execution_count": 143,
   "metadata": {},
   "outputs": [],
   "source": [
    "tribe_template = PromptTemplate(\n",
    "    input_varaibles = ['tribe'],\n",
    "    template ='I want to open a restaurant for {tribe} food in Nigeria .Suggest a fancy name for me. Just give me the name'\n",
    ")\n",
    "\n",
    "name_chain = LLMChain(llm=model, prompt=tribe_template, output_key='restaurant_name')\n"
   ]
  },
  {
   "cell_type": "code",
   "execution_count": 144,
   "metadata": {},
   "outputs": [],
   "source": [
    "food_template = PromptTemplate(\n",
    "    input_variables=['restaurant_name'],\n",
    "    template='Suggest some menu items for {restaurant_name}.Just Return as a comma seperated list, no preamble'\n",
    ")\n",
    "\n",
    "food_item_chain = LLMChain(llm=model, prompt=food_template, output_key='food_item')"
   ]
  },
  {
   "cell_type": "code",
   "execution_count": 145,
   "metadata": {},
   "outputs": [],
   "source": [
    "total_chain = SequentialChain(\n",
    "    chains=[name_chain, food_item_chain],\n",
    "    input_variables =['tribe'],\n",
    "    output_variables =['restaurant_name', 'food_item']\n",
    "\n",
    ")"
   ]
  },
  {
   "cell_type": "code",
   "execution_count": 146,
   "metadata": {},
   "outputs": [
    {
     "data": {
      "text/plain": [
       "{'tribe': 'yoruba',\n",
       " 'restaurant_name': '\"Ori Olokun\"',\n",
       " 'food_item': 'Jollof Rice, Suya Chicken Wings, Efo Riro, Puff Puff, Fried Plantains, Coconut Rice, Pepper Soup, Grilled Tilapia, Egusi Soup, Moi Moi.'}"
      ]
     },
     "execution_count": 146,
     "metadata": {},
     "output_type": "execute_result"
    }
   ],
   "source": [
    "total_chain.invoke({'tribe':'yoruba'})"
   ]
  }
 ],
 "metadata": {
  "kernelspec": {
   "display_name": "venv",
   "language": "python",
   "name": "python3"
  },
  "language_info": {
   "codemirror_mode": {
    "name": "ipython",
    "version": 3
   },
   "file_extension": ".py",
   "mimetype": "text/x-python",
   "name": "python",
   "nbconvert_exporter": "python",
   "pygments_lexer": "ipython3",
   "version": "3.11.4"
  }
 },
 "nbformat": 4,
 "nbformat_minor": 2
}
